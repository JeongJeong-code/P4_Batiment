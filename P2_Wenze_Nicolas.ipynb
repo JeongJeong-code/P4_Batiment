{
 "cells": [
  {
   "cell_type": "markdown",
   "metadata": {},
   "source": [
    "Import the usefeull libraries"
   ]
  },
  {
   "cell_type": "code",
   "execution_count": 1,
   "metadata": {},
   "outputs": [
    {
     "name": "stdout",
     "output_type": "stream",
     "text": [
      "Requirement already satisfied: numpy in c:\\users\\nwenz\\anaconda3\\lib\\site-packages (1.19.2)\n"
     ]
    }
   ],
   "source": [
    "\n",
    "import sys\n",
    "!{sys.executable} -m pip install numpy\n",
    "\n",
    "import numpy as np\n",
    "%matplotlib inline \n",
    "import matplotlib.pyplot as plt\n",
    "from enum import Enum\n",
    "import pandas as pd \n",
    "import seaborn as sns\n",
    "import os.path\n",
    "sns.set()\n",
    "import missingno as mi\n",
    "\n"
   ]
  },
  {
   "cell_type": "code",
   "execution_count": 2,
   "metadata": {},
   "outputs": [],
   "source": [
    "filepath = os.path.join('C:/','Users','nwenz','Desktop','projet') \n",
    "\n",
    "EdStatsCountry = 'EdStatsCountry.csv'\n",
    "Country_path =os.path.join(filepath,EdStatsCountry)\n",
    "\n",
    "EdStatsCountry_Series =\"EdStatsCountry-Series.csv\"\n",
    "EdStatsCountry_Series_path = os.path.join(filepath, EdStatsCountry_Series)\n",
    "\n",
    "EdStatsData =\"EdStatsData.csv\"\n",
    "EdStatsData_Series_path = os.path.join(filepath, EdStatsData)\n",
    "\n",
    "EdStatsFootNote =\"EdStatsFootNote.csv\"\n",
    "EdStatsFootNote_path = os.path.join(filepath, EdStatsFootNote)\n",
    "\n",
    "EdStatsSeries = \"EdStatsSeries.csv\"\n",
    "EdStatsSeries_path = os.path.join(filepath, EdStatsSeries)\n",
    "\n",
    "\n",
    "Country = pd.read_csv(Country_path)\n",
    "EdStatsCountry_Series = pd.read_csv(EdStatsCountry_Series_path)\n",
    "Data = pd.read_csv(EdStatsData_Series_path)\n",
    "EdStatsFootNote = pd.read_csv(EdStatsFootNote_path)\n",
    "EdStatsSeries = pd.read_csv(EdStatsSeries_path)\n",
    "\n",
    "\n",
    "\n",
    "#Country = pd.read_csv('C:/Users/nwenz/Downloads/Projet+Python_Dataset_Edstats_csv/EdStatsCountry.csv')\n",
    "#EdStatsCountry_Series = pd.read_csv('C:/Users/nwenz/Downloads/Projet+Python_Dataset_Edstats_csv/EdStatsCountry-Series.csv')\n",
    "#Data = pd.read_csv('C:/Users/nwenz/Downloads/Projet+Python_Dataset_Edstats_csv/EdStatsData.csv')\n",
    "#EdStatsFootNote = pd.read_csv('C:/Users/nwenz/Downloads/Projet+Python_Dataset_Edstats_csv/EdStatsFootNote.csv')\n",
    "#EdStatsSeries = pd.read_csv('C:/Users/nwenz/Downloads/Projet+Python_Dataset_Edstats_csv/EdStatsSeries.csv')\n"
   ]
  },
  {
   "cell_type": "markdown",
   "metadata": {},
   "source": [
    "Get info from the csv to describe teh dataset"
   ]
  },
  {
   "cell_type": "code",
   "execution_count": 3,
   "metadata": {
    "scrolled": false
   },
   "outputs": [
    {
     "name": "stdout",
     "output_type": "stream",
     "text": [
      "<class 'pandas.core.frame.DataFrame'>\n",
      "RangeIndex: 886930 entries, 0 to 886929\n",
      "Data columns (total 70 columns):\n",
      " #   Column          Non-Null Count   Dtype  \n",
      "---  ------          --------------   -----  \n",
      " 0   Country Name    886930 non-null  object \n",
      " 1   Country Code    886930 non-null  object \n",
      " 2   Indicator Name  886930 non-null  object \n",
      " 3   Indicator Code  886930 non-null  object \n",
      " 4   1970            72288 non-null   float64\n",
      " 5   1971            35537 non-null   float64\n",
      " 6   1972            35619 non-null   float64\n",
      " 7   1973            35545 non-null   float64\n",
      " 8   1974            35730 non-null   float64\n",
      " 9   1975            87306 non-null   float64\n",
      " 10  1976            37483 non-null   float64\n",
      " 11  1977            37574 non-null   float64\n",
      " 12  1978            37576 non-null   float64\n",
      " 13  1979            36809 non-null   float64\n",
      " 14  1980            89122 non-null   float64\n",
      " 15  1981            38777 non-null   float64\n",
      " 16  1982            37511 non-null   float64\n",
      " 17  1983            38460 non-null   float64\n",
      " 18  1984            38606 non-null   float64\n",
      " 19  1985            90296 non-null   float64\n",
      " 20  1986            39372 non-null   float64\n",
      " 21  1987            38641 non-null   float64\n",
      " 22  1988            38552 non-null   float64\n",
      " 23  1989            37540 non-null   float64\n",
      " 24  1990            124405 non-null  float64\n",
      " 25  1991            74437 non-null   float64\n",
      " 26  1992            75543 non-null   float64\n",
      " 27  1993            75793 non-null   float64\n",
      " 28  1994            77462 non-null   float64\n",
      " 29  1995            131361 non-null  float64\n",
      " 30  1996            76807 non-null   float64\n",
      " 31  1997            73453 non-null   float64\n",
      " 32  1998            84914 non-null   float64\n",
      " 33  1999            118839 non-null  float64\n",
      " 34  2000            176676 non-null  float64\n",
      " 35  2001            123509 non-null  float64\n",
      " 36  2002            124205 non-null  float64\n",
      " 37  2003            130363 non-null  float64\n",
      " 38  2004            128814 non-null  float64\n",
      " 39  2005            184108 non-null  float64\n",
      " 40  2006            140312 non-null  float64\n",
      " 41  2007            137272 non-null  float64\n",
      " 42  2008            134387 non-null  float64\n",
      " 43  2009            142108 non-null  float64\n",
      " 44  2010            242442 non-null  float64\n",
      " 45  2011            146012 non-null  float64\n",
      " 46  2012            147264 non-null  float64\n",
      " 47  2013            137509 non-null  float64\n",
      " 48  2014            113789 non-null  float64\n",
      " 49  2015            131058 non-null  float64\n",
      " 50  2016            16460 non-null   float64\n",
      " 51  2017            143 non-null     float64\n",
      " 52  2020            51436 non-null   float64\n",
      " 53  2025            51436 non-null   float64\n",
      " 54  2030            51436 non-null   float64\n",
      " 55  2035            51436 non-null   float64\n",
      " 56  2040            51436 non-null   float64\n",
      " 57  2045            51436 non-null   float64\n",
      " 58  2050            51436 non-null   float64\n",
      " 59  2055            51436 non-null   float64\n",
      " 60  2060            51436 non-null   float64\n",
      " 61  2065            51436 non-null   float64\n",
      " 62  2070            51436 non-null   float64\n",
      " 63  2075            51436 non-null   float64\n",
      " 64  2080            51436 non-null   float64\n",
      " 65  2085            51436 non-null   float64\n",
      " 66  2090            51436 non-null   float64\n",
      " 67  2095            51436 non-null   float64\n",
      " 68  2100            51436 non-null   float64\n",
      " 69  Unnamed: 69     0 non-null       float64\n",
      "dtypes: float64(66), object(4)\n",
      "memory usage: 473.7+ MB\n",
      "<class 'pandas.core.frame.DataFrame'>\n",
      "RangeIndex: 3665 entries, 0 to 3664\n",
      "Data columns (total 21 columns):\n",
      " #   Column                               Non-Null Count  Dtype  \n",
      "---  ------                               --------------  -----  \n",
      " 0   Series Code                          3665 non-null   object \n",
      " 1   Topic                                3665 non-null   object \n",
      " 2   Indicator Name                       3665 non-null   object \n",
      " 3   Short definition                     2156 non-null   object \n",
      " 4   Long definition                      3665 non-null   object \n",
      " 5   Unit of measure                      0 non-null      float64\n",
      " 6   Periodicity                          99 non-null     object \n",
      " 7   Base Period                          314 non-null    object \n",
      " 8   Other notes                          552 non-null    object \n",
      " 9   Aggregation method                   47 non-null     object \n",
      " 10  Limitations and exceptions           14 non-null     object \n",
      " 11  Notes from original source           0 non-null      float64\n",
      " 12  General comments                     14 non-null     object \n",
      " 13  Source                               3665 non-null   object \n",
      " 14  Statistical concept and methodology  23 non-null     object \n",
      " 15  Development relevance                3 non-null      object \n",
      " 16  Related source links                 215 non-null    object \n",
      " 17  Other web links                      0 non-null      float64\n",
      " 18  Related indicators                   0 non-null      float64\n",
      " 19  License Type                         0 non-null      float64\n",
      " 20  Unnamed: 20                          0 non-null      float64\n",
      "dtypes: float64(6), object(15)\n",
      "memory usage: 601.4+ KB\n",
      "<class 'pandas.core.frame.DataFrame'>\n",
      "RangeIndex: 643638 entries, 0 to 643637\n",
      "Data columns (total 5 columns):\n",
      " #   Column       Non-Null Count   Dtype  \n",
      "---  ------       --------------   -----  \n",
      " 0   CountryCode  643638 non-null  object \n",
      " 1   SeriesCode   643638 non-null  object \n",
      " 2   Year         643638 non-null  object \n",
      " 3   DESCRIPTION  643638 non-null  object \n",
      " 4   Unnamed: 4   0 non-null       float64\n",
      "dtypes: float64(1), object(4)\n",
      "memory usage: 24.6+ MB\n",
      "<class 'pandas.core.frame.DataFrame'>\n",
      "RangeIndex: 241 entries, 0 to 240\n",
      "Data columns (total 32 columns):\n",
      " #   Column                                             Non-Null Count  Dtype  \n",
      "---  ------                                             --------------  -----  \n",
      " 0   Country Code                                       241 non-null    object \n",
      " 1   Short Name                                         241 non-null    object \n",
      " 2   Table Name                                         241 non-null    object \n",
      " 3   Long Name                                          241 non-null    object \n",
      " 4   2-alpha code                                       238 non-null    object \n",
      " 5   Currency Unit                                      215 non-null    object \n",
      " 6   Special Notes                                      145 non-null    object \n",
      " 7   Region                                             214 non-null    object \n",
      " 8   Income Group                                       214 non-null    object \n",
      " 9   WB-2 code                                          240 non-null    object \n",
      " 10  National accounts base year                        205 non-null    object \n",
      " 11  National accounts reference year                   32 non-null     float64\n",
      " 12  SNA price valuation                                197 non-null    object \n",
      " 13  Lending category                                   144 non-null    object \n",
      " 14  Other groups                                       58 non-null     object \n",
      " 15  System of National Accounts                        215 non-null    object \n",
      " 16  Alternative conversion factor                      47 non-null     object \n",
      " 17  PPP survey year                                    145 non-null    object \n",
      " 18  Balance of Payments Manual in use                  181 non-null    object \n",
      " 19  External debt Reporting status                     124 non-null    object \n",
      " 20  System of trade                                    200 non-null    object \n",
      " 21  Government Accounting concept                      161 non-null    object \n",
      " 22  IMF data dissemination standard                    181 non-null    object \n",
      " 23  Latest population census                           213 non-null    object \n",
      " 24  Latest household survey                            141 non-null    object \n",
      " 25  Source of most recent Income and expenditure data  160 non-null    object \n",
      " 26  Vital registration complete                        111 non-null    object \n",
      " 27  Latest agricultural census                         142 non-null    object \n",
      " 28  Latest industrial data                             107 non-null    float64\n",
      " 29  Latest trade data                                  185 non-null    float64\n",
      " 30  Latest water withdrawal data                       179 non-null    object \n",
      " 31  Unnamed: 31                                        0 non-null      float64\n",
      "dtypes: float64(4), object(28)\n",
      "memory usage: 60.4+ KB\n",
      "<class 'pandas.core.frame.DataFrame'>\n",
      "RangeIndex: 613 entries, 0 to 612\n",
      "Data columns (total 4 columns):\n",
      " #   Column       Non-Null Count  Dtype  \n",
      "---  ------       --------------  -----  \n",
      " 0   CountryCode  613 non-null    object \n",
      " 1   SeriesCode   613 non-null    object \n",
      " 2   DESCRIPTION  613 non-null    object \n",
      " 3   Unnamed: 3   0 non-null      float64\n",
      "dtypes: float64(1), object(3)\n",
      "memory usage: 19.3+ KB\n"
     ]
    }
   ],
   "source": [
    "Data.info()\n",
    "EdStatsSeries.info()\n",
    "EdStatsFootNote.info()\n",
    "Country.info()\n",
    "EdStatsCountry_Series.info()\n",
    "#type(print(Country_path))\n",
    "#mi.matrix(Data.sample(250))"
   ]
  },
  {
   "cell_type": "markdown",
   "metadata": {},
   "source": [
    "Merging the two principal dataset"
   ]
  },
  {
   "cell_type": "code",
   "execution_count": 4,
   "metadata": {},
   "outputs": [],
   "source": [
    "Data=Data.merge(Country,on = 'Country Code')\n",
    "Data2 = Data"
   ]
  },
  {
   "cell_type": "code",
   "execution_count": 5,
   "metadata": {},
   "outputs": [
    {
     "name": "stdout",
     "output_type": "stream",
     "text": [
      "il y a 0 rangées dupliquées\n"
     ]
    }
   ],
   "source": [
    "#print(len(Data['Country Name']))\n",
    "#print(len(Data['Country Name'].unique()))\n",
    "#print(len(Data['Indicator Code'].unique()))\n",
    "dup = len(Data['Country Name'])- len(Data['Indicator Code'].unique())*len(Data['Country Name'].unique())\n",
    "print(\"il y a\",dup,\"rangées dupliquées\")"
   ]
  },
  {
   "cell_type": "code",
   "execution_count": 6,
   "metadata": {},
   "outputs": [
    {
     "name": "stdout",
     "output_type": "stream",
     "text": [
      "<class 'pandas.core.frame.DataFrame'>\n",
      "Int64Index: 883265 entries, 0 to 883264\n",
      "Columns: 101 entries, Country Name to Unnamed: 31\n",
      "dtypes: float64(70), object(31)\n",
      "memory usage: 687.4+ MB\n",
      "<class 'pandas.core.frame.DataFrame'>\n",
      "Int64Index: 883265 entries, 0 to 883264\n",
      "Columns: 101 entries, Country Name to Unnamed: 31\n",
      "dtypes: float64(70), object(31)\n",
      "memory usage: 687.4+ MB\n"
     ]
    }
   ],
   "source": [
    "Data.info()\n",
    "Data_dup=Data.drop_duplicates(subset=['Indicator Code', 'Country Name'])\n",
    "Data_dup.info()"
   ]
  },
  {
   "cell_type": "code",
   "execution_count": 7,
   "metadata": {
    "scrolled": true
   },
   "outputs": [],
   "source": [
    "#Data.head()\n"
   ]
  },
  {
   "cell_type": "markdown",
   "metadata": {},
   "source": [
    "Droping columns between 1970 and 2010"
   ]
  },
  {
   "cell_type": "code",
   "execution_count": 8,
   "metadata": {},
   "outputs": [
    {
     "data": {
      "text/plain": [
       "array([nan, 'Low income', 'Upper middle income', 'High income: nonOECD',\n",
       "       'Lower middle income', 'High income: OECD'], dtype=object)"
      ]
     },
     "execution_count": 8,
     "metadata": {},
     "output_type": "execute_result"
    }
   ],
   "source": [
    "for i in range(1970,2010):\n",
    "    anneeColonneInf = str(i)    \n",
    "    Data.drop(anneeColonneInf, axis =1, inplace = True)\n",
    "    #print(anneeColonne)\n",
    "    \n",
    "#Data.head()\n",
    "#Data_modified = Data.drop(Data.iloc[:,4:24], axis =1)\n",
    "Data['Income Group'].unique() # counting the number of unique income group "
   ]
  },
  {
   "cell_type": "code",
   "execution_count": 9,
   "metadata": {
    "scrolled": true
   },
   "outputs": [
    {
     "data": {
      "text/plain": [
       "array(['Upper middle income', 'High income: nonOECD',\n",
       "       'Lower middle income', 'High income: OECD'], dtype=object)"
      ]
     },
     "execution_count": 9,
     "metadata": {},
     "output_type": "execute_result"
    }
   ],
   "source": [
    "#Data.info()\n",
    "Data.drop(Data.loc[Data['Income Group']=='Low income'].index, inplace=True)\n",
    "Data.dropna(subset =['Income Group'], inplace =True)\n",
    "Data['Income Group'].unique() # verifying that nan and lower income is dropped"
   ]
  },
  {
   "cell_type": "code",
   "execution_count": 10,
   "metadata": {},
   "outputs": [],
   "source": [
    "#Data_modified2 = Data_modified.drop(Data_modified.iloc[:,33:56], axis =1)"
   ]
  },
  {
   "cell_type": "markdown",
   "metadata": {},
   "source": [
    "Dropping columns from 2016."
   ]
  },
  {
   "cell_type": "code",
   "execution_count": 11,
   "metadata": {},
   "outputs": [],
   "source": [
    "Data_region = Data['Region']\n",
    "\n",
    "Data = Data.loc[:, :'2015']\n",
    "    #Data1= pd.concat(Data[anneeColonne])\n",
    "Data =pd.concat([Data,Data_region], axis = 1) # droping every columns after 2015 then adding Region back in \n"
   ]
  },
  {
   "cell_type": "code",
   "execution_count": 12,
   "metadata": {
    "scrolled": true
   },
   "outputs": [
    {
     "data": {
      "text/html": [
       "<div>\n",
       "<style scoped>\n",
       "    .dataframe tbody tr th:only-of-type {\n",
       "        vertical-align: middle;\n",
       "    }\n",
       "\n",
       "    .dataframe tbody tr th {\n",
       "        vertical-align: top;\n",
       "    }\n",
       "\n",
       "    .dataframe thead th {\n",
       "        text-align: right;\n",
       "    }\n",
       "</style>\n",
       "<table border=\"1\" class=\"dataframe\">\n",
       "  <thead>\n",
       "    <tr style=\"text-align: right;\">\n",
       "      <th></th>\n",
       "      <th>Country Name</th>\n",
       "      <th>Country Code</th>\n",
       "      <th>Indicator Name</th>\n",
       "      <th>Indicator Code</th>\n",
       "      <th>2010</th>\n",
       "      <th>2011</th>\n",
       "      <th>2012</th>\n",
       "      <th>2013</th>\n",
       "      <th>2014</th>\n",
       "      <th>2015</th>\n",
       "      <th>Region</th>\n",
       "    </tr>\n",
       "  </thead>\n",
       "  <tbody>\n",
       "    <tr>\n",
       "      <th>95290</th>\n",
       "      <td>Albania</td>\n",
       "      <td>ALB</td>\n",
       "      <td>Adjusted net enrolment rate, lower secondary, ...</td>\n",
       "      <td>UIS.NERA.2</td>\n",
       "      <td>NaN</td>\n",
       "      <td>NaN</td>\n",
       "      <td>NaN</td>\n",
       "      <td>87.666588</td>\n",
       "      <td>88.778252</td>\n",
       "      <td>NaN</td>\n",
       "      <td>Europe &amp; Central Asia</td>\n",
       "    </tr>\n",
       "    <tr>\n",
       "      <th>95291</th>\n",
       "      <td>Albania</td>\n",
       "      <td>ALB</td>\n",
       "      <td>Adjusted net enrolment rate, lower secondary, ...</td>\n",
       "      <td>UIS.NERA.2.F</td>\n",
       "      <td>NaN</td>\n",
       "      <td>NaN</td>\n",
       "      <td>NaN</td>\n",
       "      <td>87.354607</td>\n",
       "      <td>88.133423</td>\n",
       "      <td>NaN</td>\n",
       "      <td>Europe &amp; Central Asia</td>\n",
       "    </tr>\n",
       "    <tr>\n",
       "      <th>95292</th>\n",
       "      <td>Albania</td>\n",
       "      <td>ALB</td>\n",
       "      <td>Adjusted net enrolment rate, lower secondary, ...</td>\n",
       "      <td>UIS.NERA.2.GPI</td>\n",
       "      <td>NaN</td>\n",
       "      <td>NaN</td>\n",
       "      <td>NaN</td>\n",
       "      <td>0.993110</td>\n",
       "      <td>0.986010</td>\n",
       "      <td>NaN</td>\n",
       "      <td>Europe &amp; Central Asia</td>\n",
       "    </tr>\n",
       "    <tr>\n",
       "      <th>95293</th>\n",
       "      <td>Albania</td>\n",
       "      <td>ALB</td>\n",
       "      <td>Adjusted net enrolment rate, lower secondary, ...</td>\n",
       "      <td>UIS.NERA.2.M</td>\n",
       "      <td>NaN</td>\n",
       "      <td>NaN</td>\n",
       "      <td>NaN</td>\n",
       "      <td>87.960289</td>\n",
       "      <td>89.383621</td>\n",
       "      <td>NaN</td>\n",
       "      <td>Europe &amp; Central Asia</td>\n",
       "    </tr>\n",
       "    <tr>\n",
       "      <th>95294</th>\n",
       "      <td>Albania</td>\n",
       "      <td>ALB</td>\n",
       "      <td>Adjusted net enrolment rate, primary, both sex...</td>\n",
       "      <td>SE.PRM.TENR</td>\n",
       "      <td>91.033867</td>\n",
       "      <td>93.225662</td>\n",
       "      <td>96.137093</td>\n",
       "      <td>95.912598</td>\n",
       "      <td>95.920891</td>\n",
       "      <td>NaN</td>\n",
       "      <td>Europe &amp; Central Asia</td>\n",
       "    </tr>\n",
       "  </tbody>\n",
       "</table>\n",
       "</div>"
      ],
      "text/plain": [
       "      Country Name Country Code  \\\n",
       "95290      Albania          ALB   \n",
       "95291      Albania          ALB   \n",
       "95292      Albania          ALB   \n",
       "95293      Albania          ALB   \n",
       "95294      Albania          ALB   \n",
       "\n",
       "                                          Indicator Name  Indicator Code  \\\n",
       "95290  Adjusted net enrolment rate, lower secondary, ...      UIS.NERA.2   \n",
       "95291  Adjusted net enrolment rate, lower secondary, ...    UIS.NERA.2.F   \n",
       "95292  Adjusted net enrolment rate, lower secondary, ...  UIS.NERA.2.GPI   \n",
       "95293  Adjusted net enrolment rate, lower secondary, ...    UIS.NERA.2.M   \n",
       "95294  Adjusted net enrolment rate, primary, both sex...     SE.PRM.TENR   \n",
       "\n",
       "            2010       2011       2012       2013       2014  2015  \\\n",
       "95290        NaN        NaN        NaN  87.666588  88.778252   NaN   \n",
       "95291        NaN        NaN        NaN  87.354607  88.133423   NaN   \n",
       "95292        NaN        NaN        NaN   0.993110   0.986010   NaN   \n",
       "95293        NaN        NaN        NaN  87.960289  89.383621   NaN   \n",
       "95294  91.033867  93.225662  96.137093  95.912598  95.920891   NaN   \n",
       "\n",
       "                      Region  \n",
       "95290  Europe & Central Asia  \n",
       "95291  Europe & Central Asia  \n",
       "95292  Europe & Central Asia  \n",
       "95293  Europe & Central Asia  \n",
       "95294  Europe & Central Asia  "
      ]
     },
     "execution_count": 12,
     "metadata": {},
     "output_type": "execute_result"
    }
   ],
   "source": [
    "#Data.drop(Data.iloc[:,35:57], axis =1, inplace = True)\n",
    "Data.head()"
   ]
  },
  {
   "cell_type": "markdown",
   "metadata": {},
   "source": [
    "choix des indicateurs"
   ]
  },
  {
   "cell_type": "code",
   "execution_count": 13,
   "metadata": {},
   "outputs": [],
   "source": [
    "#Data.head()\n",
    "Indic = 20 \n",
    "#se_code = Data['Indicator Code'].str.contains('SE.').values\n",
    "#used_ind_se =se_code.value_counts()[:Indic].index.tolist() # listing the 100 most used Indicator code\n",
    "#print(se_code)\n",
    "threshValue = 0.8*len(Data.columns)\n",
    "Data.dropna(axis = 0,thresh = threshValue, inplace = True) \n",
    "Data_indic = Data['Indicator Code'].unique() #isolate all unique indicator\n",
    "Data_indic = pd.Series(Data_indic) # convert into series\n",
    "start_code = Data_indic.str[:3] # isolate every 3 first char of each string\n",
    "unique_start_code = start_code.unique() # isolate unique combination of char \n",
    "#print(unique_start_code)\n",
    "top_X = pd.DataFrame()  #set a dataframe to store data\n",
    "top_final = pd.DataFrame() #set anorther dataframe to store data\n",
    "\n",
    "for i in range(len(unique_start_code)):\n",
    "    ind_codeX =Data['Indicator Code'].str.startswith(unique_start_code[i]) #store every indicator starting with one of the unique combination\n",
    "    used_ind_codeX = Data[ind_codeX] # store the data related to the indicator\n",
    "    used_ind_codeX = used_ind_codeX['Indicator Code'] # drop everything but indicator code columns\n",
    "\n",
    "    top_X =pd.Series(used_ind_codeX.value_counts()[:Indic].index.tolist())# list 'indic' most used indicator code corresponding to the combination\n",
    "    top_X_name = Data.loc[Data['Indicator Code'].isin(top_X)] # locating those indicators in Data\n",
    "    top_X_name = pd.Series(top_X_name['Indicator Name'].unique())    # retrieving and storing their names\n",
    "    \n",
    "    top_final = pd.concat([top_final,top_X_name],axis = 1,ignore_index = True) #concatenating the series into a dataframe\n",
    "top_final.head()\n",
    "top_final_name = os.path.join(filepath,\"top_final_updt.csv\")\n",
    "top_final.to_csv(path_or_buf = top_final_name ,sep =',')\n",
    "# selecting all rows that match indicator code\n",
    "#used_ind_nameX = Data.loc[Data['Indicator Code'].isin(top_X)]\n",
    "#used_ind_nameX['Indicator Name'].unique() # printing each unique indicator name\n",
    "\n",
    "\n",
    "\n",
    "#ind_codeSE =Data['Indicator Code'].str.startswith('SE.')\n",
    "#used_ind_codeSE = Data[ind_codeSE]\n",
    "#used_ind_codeSE = used_ind_codeSE['Indicator Code']\n",
    "#top_SE = used_ind_codeSE.value_counts()[:Indic].index.tolist()# listing the 100 most used Indicator code\n",
    "\n",
    "#print(top_SE)\n",
    "#used_ind_codeSE = used_ind_codeSE.values().str.startswith('SE')\n",
    "#used_ind_codeSE = pd.Series(used_ind_codeSE)\n",
    "\n",
    "#used_ind_nameSE = Data.loc[Data['Indicator Code'].isin(top_SE)] # selecting all rows that match indicator code\n",
    "#used_ind_nameSE['Indicator Name'].unique() # printing each unique indicator name\n",
    "\n",
    "\n",
    "#used_ind_code =Data['Indicator Code'].value_counts()[:Indic].index.tolist() # listing the 100 most used Indicator code\n",
    "#used_ind_name = Data.loc[Data['Indicator Code'].isin(used_ind_code)] # selecting all rows that match indicator code\n",
    "#used_ind_name['Indicator Name'].unique() # printing each unique indicator name"
   ]
  },
  {
   "cell_type": "code",
   "execution_count": 14,
   "metadata": {},
   "outputs": [
    {
     "name": "stdout",
     "output_type": "stream",
     "text": [
      "['SE.' 'UIS' 'NY.' 'IT.' 'SL.' 'SH.' 'SP.' 'XGD' 'OEC']\n"
     ]
    }
   ],
   "source": [
    "print(unique_start_code)\n",
    "#ind_codeY =Data['Indicator Code'].str.startswith('SP.') #store every indicator starting with one of the unique combination\n",
    "#used_ind_codeY = Data[ind_codeY] # store the data related to the indicator\n",
    "#used_ind_codeY2 = used_ind_codeY['Indicator Code'].unique()\n",
    "#used_ind_codeY3 = used_ind_codeY['Indicator Name'].unique()\n",
    "#indic_all= pd.concat(['used_ind_codeY2','used_ind_codeY3'],axis =1, ignore_index =True)\n",
    "#print(used_ind_codeY2)\n",
    "#print(used_ind_codeY3)"
   ]
  },
  {
   "cell_type": "markdown",
   "metadata": {},
   "source": [
    "Selecting the indicators of interest by their indicator code"
   ]
  },
  {
   "cell_type": "code",
   "execution_count": 15,
   "metadata": {},
   "outputs": [],
   "source": [
    "indicatorCode =['SE.COM.DURS','IT.NET.USER.P2','NY.GDP.MKTP.KD','SP.SEC.UTOT.IN','SL.UEM.TOTL.ZS']"
   ]
  },
  {
   "cell_type": "markdown",
   "metadata": {},
   "source": [
    "Extracting the rows corresponding to the indicators selectioned"
   ]
  },
  {
   "cell_type": "code",
   "execution_count": 16,
   "metadata": {},
   "outputs": [],
   "source": [
    "Data = Data.loc[Data['Indicator Code'].isin(indicatorCode)]"
   ]
  },
  {
   "cell_type": "code",
   "execution_count": 17,
   "metadata": {
    "scrolled": true
   },
   "outputs": [
    {
     "data": {
      "text/plain": [
       "array(['SE.COM.DURS', 'NY.GDP.MKTP.KD', 'IT.NET.USER.P2',\n",
       "       'SP.SEC.UTOT.IN', 'SL.UEM.TOTL.ZS'], dtype=object)"
      ]
     },
     "execution_count": 17,
     "metadata": {},
     "output_type": "execute_result"
    }
   ],
   "source": [
    "Data['Indicator Code'].unique()\n",
    "#Data_modified4.info()\n",
    "#Data.head()\n",
    "#for i in range(2010,2016):\n",
    "# anneeColonne = str(i)\n",
    "  #  print(anneeColonne)\n",
    "   # Data1= Data[anneeColonne]\n",
    "    #Data1.info()"
   ]
  },
  {
   "cell_type": "code",
   "execution_count": 18,
   "metadata": {},
   "outputs": [
    {
     "data": {
      "text/plain": [
       "<AxesSubplot:>"
      ]
     },
     "execution_count": 18,
     "metadata": {},
     "output_type": "execute_result"
    },
    {
     "data": {
      "image/png": "[encoded data removed]",
      "text/plain": [
       "<Figure size 1800x720 with 2 Axes>"
      ]
     },
     "metadata": {},
     "output_type": "display_data"
    }
   ],
   "source": [
    "mi.matrix(Data)\n",
    "#Data.sample(5)"
   ]
  },
  {
   "cell_type": "markdown",
   "metadata": {},
   "source": [
    "Dropping lines with missing informations"
   ]
  },
  {
   "cell_type": "code",
   "execution_count": 19,
   "metadata": {},
   "outputs": [],
   "source": [
    "#Data.drop(Data.iloc[:,4:23], axis =1, inplace = True)\n",
    "#threshValue = 1*len(Data.columns)\n",
    "#Data.dropna(axis = 0,thresh = threshValue, inplace = True) "
   ]
  },
  {
   "cell_type": "code",
   "execution_count": 20,
   "metadata": {
    "scrolled": true
   },
   "outputs": [
    {
     "name": "stdout",
     "output_type": "stream",
     "text": [
      "<class 'pandas.core.frame.DataFrame'>\n",
      "Int64Index: 804 entries, 95992 to 879283\n",
      "Data columns (total 11 columns):\n",
      " #   Column          Non-Null Count  Dtype  \n",
      "---  ------          --------------  -----  \n",
      " 0   Country Name    804 non-null    object \n",
      " 1   Country Code    804 non-null    object \n",
      " 2   Indicator Name  804 non-null    object \n",
      " 3   Indicator Code  804 non-null    object \n",
      " 4   2010            801 non-null    float64\n",
      " 5   2011            804 non-null    float64\n",
      " 6   2012            803 non-null    float64\n",
      " 7   2013            804 non-null    float64\n",
      " 8   2014            802 non-null    float64\n",
      " 9   2015            799 non-null    float64\n",
      " 10  Region          804 non-null    object \n",
      "dtypes: float64(6), object(5)\n",
      "memory usage: 75.4+ KB\n"
     ]
    }
   ],
   "source": [
    "Data.info()"
   ]
  },
  {
   "cell_type": "markdown",
   "metadata": {},
   "source": []
  },
  {
   "cell_type": "code",
   "execution_count": 21,
   "metadata": {
    "scrolled": true
   },
   "outputs": [],
   "source": [
    "#mi.matrix(Data)\n",
    "#Data.head()"
   ]
  },
  {
   "cell_type": "markdown",
   "metadata": {},
   "source": [
    "Creating a Dataframe for each indicator"
   ]
  },
  {
   "cell_type": "code",
   "execution_count": 22,
   "metadata": {},
   "outputs": [],
   "source": [
    "Data_pop = Data.loc[Data['Indicator Code'].isin(['SP.SEC.UTOT.IN'])]\n",
    "Data_int = Data.loc[Data['Indicator Code'].isin(['IT.NET.USER.P2'])]\n",
    "Data_dur = Data.loc[Data['Indicator Code'].isin(['SE.COM.DURS'])]\n",
    "Data_gdp = Data.loc[Data['Indicator Code'].isin(['NY.GDP.MKTP.KD'])]\n",
    "Data_unemp = Data.loc[Data['Indicator Code'].isin(['SL.UEM.TOTL.ZS'])]\n"
   ]
  },
  {
   "cell_type": "markdown",
   "metadata": {},
   "source": [
    "Creating pivot table to see stats across indicatore code and Region in 2015"
   ]
  },
  {
   "cell_type": "code",
   "execution_count": 23,
   "metadata": {
    "scrolled": true
   },
   "outputs": [
    {
     "data": {
      "text/html": [
       "<div>\n",
       "<style scoped>\n",
       "    .dataframe tbody tr th:only-of-type {\n",
       "        vertical-align: middle;\n",
       "    }\n",
       "\n",
       "    .dataframe tbody tr th {\n",
       "        vertical-align: top;\n",
       "    }\n",
       "\n",
       "    .dataframe thead th {\n",
       "        text-align: right;\n",
       "    }\n",
       "</style>\n",
       "<table border=\"1\" class=\"dataframe\">\n",
       "  <thead>\n",
       "    <tr style=\"text-align: right;\">\n",
       "      <th></th>\n",
       "      <th>Country Name</th>\n",
       "      <th>Country Code</th>\n",
       "      <th>Indicator Name</th>\n",
       "      <th>Indicator Code</th>\n",
       "      <th>2010</th>\n",
       "      <th>2011</th>\n",
       "      <th>2012</th>\n",
       "      <th>2013</th>\n",
       "      <th>2014</th>\n",
       "      <th>2015</th>\n",
       "      <th>Region</th>\n",
       "    </tr>\n",
       "  </thead>\n",
       "  <tbody>\n",
       "    <tr>\n",
       "      <th>97622</th>\n",
       "      <td>Albania</td>\n",
       "      <td>ALB</td>\n",
       "      <td>Population of the official age for upper secon...</td>\n",
       "      <td>SP.SEC.UTOT.IN</td>\n",
       "      <td>178188.0</td>\n",
       "      <td>174347.0</td>\n",
       "      <td>170216.0</td>\n",
       "      <td>166043.0</td>\n",
       "      <td>161760.0</td>\n",
       "      <td>156541.0</td>\n",
       "      <td>Europe &amp; Central Asia</td>\n",
       "    </tr>\n",
       "    <tr>\n",
       "      <th>101287</th>\n",
       "      <td>Algeria</td>\n",
       "      <td>DZA</td>\n",
       "      <td>Population of the official age for upper secon...</td>\n",
       "      <td>SP.SEC.UTOT.IN</td>\n",
       "      <td>2197269.0</td>\n",
       "      <td>2124617.0</td>\n",
       "      <td>2031993.0</td>\n",
       "      <td>1941965.0</td>\n",
       "      <td>1862417.0</td>\n",
       "      <td>1796069.0</td>\n",
       "      <td>Middle East &amp; North Africa</td>\n",
       "    </tr>\n",
       "    <tr>\n",
       "      <th>112282</th>\n",
       "      <td>Angola</td>\n",
       "      <td>AGO</td>\n",
       "      <td>Population of the official age for upper secon...</td>\n",
       "      <td>SP.SEC.UTOT.IN</td>\n",
       "      <td>1388931.0</td>\n",
       "      <td>1438805.0</td>\n",
       "      <td>1493332.0</td>\n",
       "      <td>1551396.0</td>\n",
       "      <td>1612084.0</td>\n",
       "      <td>1674971.0</td>\n",
       "      <td>Sub-Saharan Africa</td>\n",
       "    </tr>\n",
       "    <tr>\n",
       "      <th>115947</th>\n",
       "      <td>Antigua and Barbuda</td>\n",
       "      <td>ATG</td>\n",
       "      <td>Population of the official age for upper secon...</td>\n",
       "      <td>SP.SEC.UTOT.IN</td>\n",
       "      <td>3162.0</td>\n",
       "      <td>3181.0</td>\n",
       "      <td>3184.0</td>\n",
       "      <td>3188.0</td>\n",
       "      <td>3185.0</td>\n",
       "      <td>3171.0</td>\n",
       "      <td>Latin America &amp; Caribbean</td>\n",
       "    </tr>\n",
       "    <tr>\n",
       "      <th>119612</th>\n",
       "      <td>Argentina</td>\n",
       "      <td>ARG</td>\n",
       "      <td>Population of the official age for upper secon...</td>\n",
       "      <td>SP.SEC.UTOT.IN</td>\n",
       "      <td>2083754.0</td>\n",
       "      <td>2075353.0</td>\n",
       "      <td>2063512.0</td>\n",
       "      <td>2054555.0</td>\n",
       "      <td>2054332.0</td>\n",
       "      <td>2067256.0</td>\n",
       "      <td>Latin America &amp; Caribbean</td>\n",
       "    </tr>\n",
       "    <tr>\n",
       "      <th>123277</th>\n",
       "      <td>Armenia</td>\n",
       "      <td>ARM</td>\n",
       "      <td>Population of the official age for upper secon...</td>\n",
       "      <td>SP.SEC.UTOT.IN</td>\n",
       "      <td>100015.0</td>\n",
       "      <td>94690.0</td>\n",
       "      <td>137411.0</td>\n",
       "      <td>127691.0</td>\n",
       "      <td>117286.0</td>\n",
       "      <td>107475.0</td>\n",
       "      <td>Europe &amp; Central Asia</td>\n",
       "    </tr>\n",
       "    <tr>\n",
       "      <th>126942</th>\n",
       "      <td>Aruba</td>\n",
       "      <td>ABW</td>\n",
       "      <td>Population of the official age for upper secon...</td>\n",
       "      <td>SP.SEC.UTOT.IN</td>\n",
       "      <td>4623.0</td>\n",
       "      <td>4594.0</td>\n",
       "      <td>4553.0</td>\n",
       "      <td>4529.0</td>\n",
       "      <td>4510.0</td>\n",
       "      <td>4492.0</td>\n",
       "      <td>Latin America &amp; Caribbean</td>\n",
       "    </tr>\n",
       "    <tr>\n",
       "      <th>130607</th>\n",
       "      <td>Australia</td>\n",
       "      <td>AUS</td>\n",
       "      <td>Population of the official age for upper secon...</td>\n",
       "      <td>SP.SEC.UTOT.IN</td>\n",
       "      <td>588029.0</td>\n",
       "      <td>594679.0</td>\n",
       "      <td>598033.0</td>\n",
       "      <td>597060.0</td>\n",
       "      <td>592273.0</td>\n",
       "      <td>586024.0</td>\n",
       "      <td>East Asia &amp; Pacific</td>\n",
       "    </tr>\n",
       "    <tr>\n",
       "      <th>134272</th>\n",
       "      <td>Austria</td>\n",
       "      <td>AUT</td>\n",
       "      <td>Population of the official age for upper secon...</td>\n",
       "      <td>SP.SEC.UTOT.IN</td>\n",
       "      <td>398381.0</td>\n",
       "      <td>390628.0</td>\n",
       "      <td>383514.0</td>\n",
       "      <td>374778.0</td>\n",
       "      <td>366376.0</td>\n",
       "      <td>358901.0</td>\n",
       "      <td>Europe &amp; Central Asia</td>\n",
       "    </tr>\n",
       "    <tr>\n",
       "      <th>137937</th>\n",
       "      <td>Azerbaijan</td>\n",
       "      <td>AZE</td>\n",
       "      <td>Population of the official age for upper secon...</td>\n",
       "      <td>SP.SEC.UTOT.IN</td>\n",
       "      <td>349666.0</td>\n",
       "      <td>333580.0</td>\n",
       "      <td>315152.0</td>\n",
       "      <td>291216.0</td>\n",
       "      <td>275965.0</td>\n",
       "      <td>272678.0</td>\n",
       "      <td>Europe &amp; Central Asia</td>\n",
       "    </tr>\n",
       "  </tbody>\n",
       "</table>\n",
       "</div>"
      ],
      "text/plain": [
       "               Country Name Country Code  \\\n",
       "97622               Albania          ALB   \n",
       "101287              Algeria          DZA   \n",
       "112282               Angola          AGO   \n",
       "115947  Antigua and Barbuda          ATG   \n",
       "119612            Argentina          ARG   \n",
       "123277              Armenia          ARM   \n",
       "126942                Aruba          ABW   \n",
       "130607            Australia          AUS   \n",
       "134272              Austria          AUT   \n",
       "137937           Azerbaijan          AZE   \n",
       "\n",
       "                                           Indicator Name  Indicator Code  \\\n",
       "97622   Population of the official age for upper secon...  SP.SEC.UTOT.IN   \n",
       "101287  Population of the official age for upper secon...  SP.SEC.UTOT.IN   \n",
       "112282  Population of the official age for upper secon...  SP.SEC.UTOT.IN   \n",
       "115947  Population of the official age for upper secon...  SP.SEC.UTOT.IN   \n",
       "119612  Population of the official age for upper secon...  SP.SEC.UTOT.IN   \n",
       "123277  Population of the official age for upper secon...  SP.SEC.UTOT.IN   \n",
       "126942  Population of the official age for upper secon...  SP.SEC.UTOT.IN   \n",
       "130607  Population of the official age for upper secon...  SP.SEC.UTOT.IN   \n",
       "134272  Population of the official age for upper secon...  SP.SEC.UTOT.IN   \n",
       "137937  Population of the official age for upper secon...  SP.SEC.UTOT.IN   \n",
       "\n",
       "             2010       2011       2012       2013       2014       2015  \\\n",
       "97622    178188.0   174347.0   170216.0   166043.0   161760.0   156541.0   \n",
       "101287  2197269.0  2124617.0  2031993.0  1941965.0  1862417.0  1796069.0   \n",
       "112282  1388931.0  1438805.0  1493332.0  1551396.0  1612084.0  1674971.0   \n",
       "115947     3162.0     3181.0     3184.0     3188.0     3185.0     3171.0   \n",
       "119612  2083754.0  2075353.0  2063512.0  2054555.0  2054332.0  2067256.0   \n",
       "123277   100015.0    94690.0   137411.0   127691.0   117286.0   107475.0   \n",
       "126942     4623.0     4594.0     4553.0     4529.0     4510.0     4492.0   \n",
       "130607   588029.0   594679.0   598033.0   597060.0   592273.0   586024.0   \n",
       "134272   398381.0   390628.0   383514.0   374778.0   366376.0   358901.0   \n",
       "137937   349666.0   333580.0   315152.0   291216.0   275965.0   272678.0   \n",
       "\n",
       "                            Region  \n",
       "97622        Europe & Central Asia  \n",
       "101287  Middle East & North Africa  \n",
       "112282          Sub-Saharan Africa  \n",
       "115947   Latin America & Caribbean  \n",
       "119612   Latin America & Caribbean  \n",
       "123277       Europe & Central Asia  \n",
       "126942   Latin America & Caribbean  \n",
       "130607         East Asia & Pacific  \n",
       "134272       Europe & Central Asia  \n",
       "137937       Europe & Central Asia  "
      ]
     },
     "execution_count": 23,
     "metadata": {},
     "output_type": "execute_result"
    }
   ],
   "source": [
    "#Data_modified7.to_csv('C:/Users/nwenz/Downloads/Data_modified7.csv', index = False)\n",
    "#Data_survival.info()\n",
    "#Data_unemployement.info()\n",
    "#Data_unemp.describe()\n",
    "#Data_unemp2 = Data_unemp[\"Country Name\"].unique()\n",
    "Data.pivot_table('2015',index = 'Region', columns = 'Indicator Code')\n",
    "Data_pop.head(10)\n"
   ]
  },
  {
   "cell_type": "code",
   "execution_count": 24,
   "metadata": {},
   "outputs": [],
   "source": [
    "#Data2[[\"East Asia & Pacific\"],[\"SL.UEM.TOTL.ZS\"]].describe()\n",
    "#ECA = Data2[ECA]\n",
    "#ECA.describe()"
   ]
  },
  {
   "cell_type": "markdown",
   "metadata": {},
   "source": [
    "Creating pivot table to see stats across indicatore code and country in 2015"
   ]
  },
  {
   "cell_type": "code",
   "execution_count": 25,
   "metadata": {},
   "outputs": [],
   "source": [
    "Data_end = Data.pivot_table('2015',index = 'Country Name', columns = 'Indicator Code')"
   ]
  },
  {
   "cell_type": "markdown",
   "metadata": {},
   "source": [
    "concatenate the values between 2010 and 2015 for each dataframe in a serie"
   ]
  },
  {
   "cell_type": "code",
   "execution_count": 26,
   "metadata": {
    "scrolled": true
   },
   "outputs": [
    {
     "data": {
      "text/plain": [
       "[Text(0.5, 0, 'GDP in Dollars')]"
      ]
     },
     "execution_count": 26,
     "metadata": {},
     "output_type": "execute_result"
    },
    {
     "data": {
      "image/png": "[encoded data removed]",
      "text/plain": [
       "<Figure size 432x288 with 1 Axes>"
      ]
     },
     "metadata": {},
     "output_type": "display_data"
    }
   ],
   "source": [
    "array_gdp = []\n",
    "array_int = []\n",
    "array_dur = []\n",
    "array_unemp = []\n",
    "array_pop = []\n",
    "Data_region = pd.Series(dtype = str)\n",
    "Data_country = pd.Series(dtype = str)\n",
    "\n",
    "for i in range(2010,2016):\n",
    "    anneeColonne = str(i)  \n",
    "    array_gdp.append(Data_gdp[anneeColonne])\n",
    "    array_int.append(Data_int[anneeColonne])\n",
    "    array_dur.append(Data_dur[anneeColonne])\n",
    "    array_unemp.append(Data_unemp[anneeColonne])\n",
    "    array_pop.append(Data_pop[anneeColonne])\n",
    "    \n",
    "    Data_region = pd.concat([Data_region,Data_unemp['Region']],ignore_index = True)\n",
    "    Data_country = pd.concat([Data_country,Data_unemp['Country Name']],ignore_index = True)\n",
    "    \n",
    "    \n",
    "Data_gdp_corr = pd.concat(array_gdp,ignore_index =True)\n",
    "Data_int_corr = pd.concat(array_int,ignore_index =True)\n",
    "Data_dur_corr = pd.concat(array_dur,ignore_index =True)\n",
    "Data_unemp_corr = pd.concat(array_unemp,ignore_index =True)\n",
    "Data_pop_corr = pd.concat(array_pop,ignore_index =True)\n",
    "#Data_internet_corr = pd.concat(Data_internet, keys = anneeColonne)\n",
    "#Data_unemployement_corr = pd.concat(Data_unemployement, keys = anneeColonne)\n",
    "#Data_literacy_corr = pd.concat(Data_literacy, keys = anneeColonne)\n",
    "\n",
    "Data_gdp_stats = pd.concat ([Data_gdp_corr,Data_region], axis =1, ignore_index =True)\n",
    "Data_int_stats = pd.concat ([Data_int_corr,Data_region], axis =1, ignore_index =True)\n",
    "Data_dur_stats = pd.concat ([Data_dur_corr,Data_region], axis =1, ignore_index =True)\n",
    "Data_unemp_stats = pd.concat ([Data_unemp_corr,Data_region], axis =1, ignore_index =True)\n",
    "Data_pop_stats = pd.concat ([Data_pop_corr,Data_region], axis =1, ignore_index =True)\n",
    "\n",
    "sns.boxplot( x =Data_gdp_stats[0], y = Data_gdp_stats[1]).set(xlabel ='GDP in Dollars')\n"
   ]
  },
  {
   "cell_type": "code",
   "execution_count": 27,
   "metadata": {},
   "outputs": [
    {
     "data": {
      "text/plain": [
       "[Text(0.5, 0, 'internet users (%)')]"
      ]
     },
     "execution_count": 27,
     "metadata": {},
     "output_type": "execute_result"
    },
    {
     "data": {
      "image/png": "[encoded data removed]",
      "text/plain": [
       "<Figure size 432x288 with 1 Axes>"
      ]
     },
     "metadata": {},
     "output_type": "display_data"
    }
   ],
   "source": [
    "sns.boxplot( x =Data_int_stats[0], y = Data_unemp_stats[1]).set(xlabel ='internet users (%)')"
   ]
  },
  {
   "cell_type": "code",
   "execution_count": 28,
   "metadata": {},
   "outputs": [
    {
     "data": {
      "text/plain": [
       "[Text(0.5, 0, 'Unemployement rate (%)')]"
      ]
     },
     "execution_count": 28,
     "metadata": {},
     "output_type": "execute_result"
    },
    {
     "data": {
      "image/png": "[encoded data removed]",
      "text/plain": [
       "<Figure size 432x288 with 1 Axes>"
      ]
     },
     "metadata": {},
     "output_type": "display_data"
    }
   ],
   "source": [
    "sns.boxplot( x =Data_unemp_stats[0], y = Data_int_stats[1]).set(xlabel ='Unemployement rate (%)')"
   ]
  },
  {
   "cell_type": "code",
   "execution_count": 29,
   "metadata": {},
   "outputs": [
    {
     "data": {
      "text/plain": [
       "[Text(0.5, 0, 'duration of compulsory school (years)')]"
      ]
     },
     "execution_count": 29,
     "metadata": {},
     "output_type": "execute_result"
    },
    {
     "data": {
      "image/png": "[encoded data removed]",
      "text/plain": [
       "<Figure size 432x288 with 1 Axes>"
      ]
     },
     "metadata": {},
     "output_type": "display_data"
    }
   ],
   "source": [
    "sns.boxplot( x =Data_dur_stats[0], y = Data_dur_stats[1]).set(xlabel ='duration of compulsory school (years)')"
   ]
  },
  {
   "cell_type": "code",
   "execution_count": 30,
   "metadata": {},
   "outputs": [
    {
     "data": {
      "text/plain": [
       "[Text(0.5, 0, 'population of age corresponding to upper secondary')]"
      ]
     },
     "execution_count": 30,
     "metadata": {},
     "output_type": "execute_result"
    },
    {
     "data": {
      "image/png": "[encoded data removed]",
      "text/plain": [
       "<Figure size 432x288 with 1 Axes>"
      ]
     },
     "metadata": {},
     "output_type": "display_data"
    }
   ],
   "source": [
    "sns.boxplot( x =Data_pop_stats[0], y = Data_pop_stats[1]).set(xlabel ='population of age corresponding to upper secondary')"
   ]
  },
  {
   "cell_type": "code",
   "execution_count": 31,
   "metadata": {},
   "outputs": [],
   "source": [
    "#Data_survival_corr2 = pd.concat([Data_survival['2010'],Data_survival['2011'],Data_survival['2012'],Data_survival['2013'],Data_survival['2014'],Data_survival['2015'],],axis=0)\n",
    "#Data_internet_corr = pd.concat([Data_internet['2010'],Data_internet['2011'],Data_internet['2012'],Data_internet['2013'],Data_internet['2014'],Data_internet['2015'],],axis=0)\n",
    "#Data_unemployement_corr = pd.concat([Data_unemployement['2010'],Data_unemployement['2011'],Data_unemployement['2012'],Data_unemployement['2013'],Data_unemployement['2014'],Data_unemployement['2015'],],axis=0)\n",
    "#Data_literacy_corr = pd.concat([Data_literacy['2010'],Data_literacy['2011'],Data_literacy['2012'],Data_literacy['2013'],Data_literacy['2014'],Data_literacy['2015'],],axis=0)\n",
    "#Data_pop_corr_stats = Data_pop_corr.groupby(\"Region\")"
   ]
  },
  {
   "cell_type": "code",
   "execution_count": 32,
   "metadata": {
    "scrolled": true
   },
   "outputs": [
    {
     "name": "stdout",
     "output_type": "stream",
     "text": [
      "990\n",
      "1008\n",
      "954\n",
      "912\n",
      "960\n"
     ]
    }
   ],
   "source": [
    "print(len(Data_gdp_corr))\n",
    "print(len(Data_int_corr))\n",
    "print(len(Data_dur_corr))\n",
    "print(len(Data_unemp_corr))\n",
    "print(len(Data_pop_corr))\n"
   ]
  },
  {
   "cell_type": "code",
   "execution_count": null,
   "metadata": {},
   "outputs": [],
   "source": []
  },
  {
   "cell_type": "markdown",
   "metadata": {},
   "source": [
    "Dropping columns with missing values"
   ]
  },
  {
   "cell_type": "code",
   "execution_count": 33,
   "metadata": {},
   "outputs": [],
   "source": [
    "Data_gdp_corr.dropna(inplace = True)\n",
    "Data_int_corr.dropna(inplace = True)\n",
    "Data_dur_corr.dropna(inplace = True)\n",
    "Data_unemp_corr.dropna(inplace = True)\n",
    "Data_pop_corr.dropna(inplace = True)\n"
   ]
  },
  {
   "cell_type": "code",
   "execution_count": 34,
   "metadata": {
    "scrolled": true
   },
   "outputs": [
    {
     "name": "stdout",
     "output_type": "stream",
     "text": [
      "985\n",
      "1007\n",
      "953\n",
      "912\n",
      "956\n"
     ]
    }
   ],
   "source": [
    "print(len(Data_gdp_corr))\n",
    "print(len(Data_int_corr))\n",
    "print(len(Data_dur_corr))\n",
    "print(len(Data_unemp_corr))\n",
    "print(len(Data_pop_corr))"
   ]
  },
  {
   "cell_type": "code",
   "execution_count": 35,
   "metadata": {},
   "outputs": [],
   "source": [
    "#ata_exp_corr.sample(100)"
   ]
  },
  {
   "cell_type": "markdown",
   "metadata": {},
   "source": [
    "Calculating the correlation coefficient between the series"
   ]
  },
  {
   "cell_type": "code",
   "execution_count": 36,
   "metadata": {},
   "outputs": [],
   "source": [
    "data_features = pd.concat([Data_gdp_corr,Data_int_corr,Data_dur_corr,Data_unemp_corr,Data_pop_corr],axis = 1,ignore_index = True)\n",
    "data_features.rename(columns = {0:\"GDP\",1:\"Internet users\",2:\"school duration\",3:\"unemployement\",4:\"educated pop\"},inplace = True)\n",
    "#data_features.sample(15)"
   ]
  },
  {
   "cell_type": "code",
   "execution_count": 37,
   "metadata": {},
   "outputs": [
    {
     "data": {
      "text/html": [
       "<div>\n",
       "<style scoped>\n",
       "    .dataframe tbody tr th:only-of-type {\n",
       "        vertical-align: middle;\n",
       "    }\n",
       "\n",
       "    .dataframe tbody tr th {\n",
       "        vertical-align: top;\n",
       "    }\n",
       "\n",
       "    .dataframe thead th {\n",
       "        text-align: right;\n",
       "    }\n",
       "</style>\n",
       "<table border=\"1\" class=\"dataframe\">\n",
       "  <thead>\n",
       "    <tr style=\"text-align: right;\">\n",
       "      <th></th>\n",
       "      <th>GDP</th>\n",
       "      <th>Internet users</th>\n",
       "      <th>school duration</th>\n",
       "      <th>unemployement</th>\n",
       "      <th>educated pop</th>\n",
       "    </tr>\n",
       "  </thead>\n",
       "  <tbody>\n",
       "    <tr>\n",
       "      <th>GDP</th>\n",
       "      <td>1.000000</td>\n",
       "      <td>-0.050215</td>\n",
       "      <td>0.030076</td>\n",
       "      <td>0.036775</td>\n",
       "      <td>-0.015408</td>\n",
       "    </tr>\n",
       "    <tr>\n",
       "      <th>Internet users</th>\n",
       "      <td>-0.050215</td>\n",
       "      <td>1.000000</td>\n",
       "      <td>-0.018838</td>\n",
       "      <td>-0.018177</td>\n",
       "      <td>-0.037276</td>\n",
       "    </tr>\n",
       "    <tr>\n",
       "      <th>school duration</th>\n",
       "      <td>0.030076</td>\n",
       "      <td>-0.018838</td>\n",
       "      <td>1.000000</td>\n",
       "      <td>-0.025196</td>\n",
       "      <td>-0.022504</td>\n",
       "    </tr>\n",
       "    <tr>\n",
       "      <th>unemployement</th>\n",
       "      <td>0.036775</td>\n",
       "      <td>-0.018177</td>\n",
       "      <td>-0.025196</td>\n",
       "      <td>1.000000</td>\n",
       "      <td>0.006995</td>\n",
       "    </tr>\n",
       "    <tr>\n",
       "      <th>educated pop</th>\n",
       "      <td>-0.015408</td>\n",
       "      <td>-0.037276</td>\n",
       "      <td>-0.022504</td>\n",
       "      <td>0.006995</td>\n",
       "      <td>1.000000</td>\n",
       "    </tr>\n",
       "  </tbody>\n",
       "</table>\n",
       "</div>"
      ],
      "text/plain": [
       "                      GDP  Internet users  school duration  unemployement  \\\n",
       "GDP              1.000000       -0.050215         0.030076       0.036775   \n",
       "Internet users  -0.050215        1.000000        -0.018838      -0.018177   \n",
       "school duration  0.030076       -0.018838         1.000000      -0.025196   \n",
       "unemployement    0.036775       -0.018177        -0.025196       1.000000   \n",
       "educated pop    -0.015408       -0.037276        -0.022504       0.006995   \n",
       "\n",
       "                 educated pop  \n",
       "GDP                 -0.015408  \n",
       "Internet users      -0.037276  \n",
       "school duration     -0.022504  \n",
       "unemployement        0.006995  \n",
       "educated pop         1.000000  "
      ]
     },
     "execution_count": 37,
     "metadata": {},
     "output_type": "execute_result"
    }
   ],
   "source": [
    "\n",
    "data_features.corr(method = 'pearson')"
   ]
  },
  {
   "cell_type": "code",
   "execution_count": 38,
   "metadata": {
    "scrolled": false
   },
   "outputs": [
    {
     "data": {
      "text/plain": [
       "<AxesSubplot:>"
      ]
     },
     "execution_count": 38,
     "metadata": {},
     "output_type": "execute_result"
    },
    {
     "data": {
      "image/png": "[encoded data removed]",
      "text/plain": [
       "<Figure size 432x288 with 1 Axes>"
      ]
     },
     "metadata": {},
     "output_type": "display_data"
    }
   ],
   "source": [
    "#data_indic = pd.DataFrame(Data_unemployement_corr)\n",
    "#print(data_indic.index.unique())\n",
    "#data_indic =[]\n",
    "#print(type(data_indic))\n",
    "#print(data_indic)\n",
    "#data_indic=pd.concat([Data_internet_corr,Data_unemployement_corr],ignore_index = True, axis=1)\n",
    "#data_indic.info()\n",
    "#print(data_indic)\n",
    "#frame_indic = pd.concat(data_indic, ignore_index =True, axis=1, sort = False)\n",
    "#sns.boxplot(frame_indic)\n",
    "#frame_indic = pd.concat([Data_internet_corr,Data_unemployement_corr], ignore_index = True,sort = False, axis=1)\n",
    "sns.boxplot(data =data_features)"
   ]
  },
  {
   "cell_type": "code",
   "execution_count": 39,
   "metadata": {},
   "outputs": [
    {
     "data": {
      "image/png": "[encoded data removed]",
      "text/plain": [
       "<Figure size 432x288 with 1 Axes>"
      ]
     },
     "metadata": {},
     "output_type": "display_data"
    }
   ],
   "source": [
    "hist_gdp=  Data_gdp_corr.hist()\n",
    "hist_int= Data_int_corr.hist()\n",
    "hist_dur= Data_dur_corr.hist()\n",
    "hist_unemp= Data_unemp_corr.hist()\n",
    "hist_pop= Data_pop_corr.hist()\n"
   ]
  },
  {
   "cell_type": "code",
   "execution_count": 40,
   "metadata": {
    "scrolled": false
   },
   "outputs": [
    {
     "data": {
      "image/png": "[encoded data removed]",
      "text/plain": [
       "<Figure size 432x288 with 1 Axes>"
      ]
     },
     "metadata": {},
     "output_type": "display_data"
    }
   ],
   "source": [
    "sns.histplot(Data_int_corr, kde=True, color = 'blue').set(xlabel = 'internet users (%)');\n",
    "#sns.histplot(Data_dur_corr, kde=True, color ='red')\n",
    "#sns.histplot(Data_unemployement_corr, kde=True, color = 'indigo')\n",
    "#sns.histplot(Data_literacy_corr, kde=True,color = 'orange')\n"
   ]
  },
  {
   "cell_type": "code",
   "execution_count": 41,
   "metadata": {},
   "outputs": [
    {
     "data": {
      "text/plain": [
       "[Text(0.5, 0, 'years of compulsary schooling')]"
      ]
     },
     "execution_count": 41,
     "metadata": {},
     "output_type": "execute_result"
    },
    {
     "data": {
      "image/png": "[encoded data removed]",
      "text/plain": [
       "<Figure size 432x288 with 1 Axes>"
      ]
     },
     "metadata": {},
     "output_type": "display_data"
    }
   ],
   "source": [
    "sns.histplot(Data_dur_corr, kde=True, color ='red').set(xlabel = 'years of compulsary schooling')"
   ]
  },
  {
   "cell_type": "code",
   "execution_count": 42,
   "metadata": {},
   "outputs": [
    {
     "data": {
      "text/plain": [
       "[Text(0.5, 0, 'unemployement rate (%)')]"
      ]
     },
     "execution_count": 42,
     "metadata": {},
     "output_type": "execute_result"
    },
    {
     "data": {
      "image/png": "[encoded data removed]",
      "text/plain": [
       "<Figure size 432x288 with 1 Axes>"
      ]
     },
     "metadata": {},
     "output_type": "display_data"
    }
   ],
   "source": [
    "sns.histplot(Data_unemp_corr, kde=True, color = 'indigo').set(xlabel = 'unemployement rate (%)')"
   ]
  },
  {
   "cell_type": "code",
   "execution_count": 43,
   "metadata": {},
   "outputs": [
    {
     "data": {
      "text/plain": [
       "[Text(0.5, 0, 'number of person of age corresponding to late secondary schooling')]"
      ]
     },
     "execution_count": 43,
     "metadata": {},
     "output_type": "execute_result"
    },
    {
     "data": {
      "image/png": "[encoded data removed]",
      "text/plain": [
       "<Figure size 432x288 with 1 Axes>"
      ]
     },
     "metadata": {},
     "output_type": "display_data"
    }
   ],
   "source": [
    "sns.histplot(Data_pop_corr, kde=True,color = 'orange',log_scale =True).set(xlabel = 'number of person of age corresponding to late secondary schooling')"
   ]
  },
  {
   "cell_type": "code",
   "execution_count": 44,
   "metadata": {},
   "outputs": [
    {
     "data": {
      "text/plain": [
       "[Text(0.5, 0, 'GDP ($)')]"
      ]
     },
     "execution_count": 44,
     "metadata": {},
     "output_type": "execute_result"
    },
    {
     "data": {
      "image/png": "[encoded data removed]",
      "text/plain": [
       "<Figure size 432x288 with 1 Axes>"
      ]
     },
     "metadata": {},
     "output_type": "display_data"
    }
   ],
   "source": [
    "sns.histplot(Data_gdp_corr, kde=True,color = 'green', log_scale = True).set(xlabel = 'GDP ($)')"
   ]
  },
  {
   "cell_type": "code",
   "execution_count": 45,
   "metadata": {},
   "outputs": [],
   "source": [
    "#Data_hist = pd.concat([Data_internet_corr,Data_unemployement_corr],ignore_index = True, axis =1)"
   ]
  },
  {
   "cell_type": "code",
   "execution_count": 46,
   "metadata": {},
   "outputs": [],
   "source": [
    "#Data.sample(5)"
   ]
  },
  {
   "cell_type": "code",
   "execution_count": 47,
   "metadata": {},
   "outputs": [],
   "source": [
    "Data_end_mask = (Data_end['SP.SEC.UTOT.IN'].values >10*6) &(Data_end['IT.NET.USER.P2'].values > 70) & (Data_end['SE.COM.DURS'] >10)&(Data_end['NY.GDP.MKTP.KD'] >10^10)&(Data_end['SL.UEM.TOTL.ZS'] <15)"
   ]
  },
  {
   "cell_type": "code",
   "execution_count": 48,
   "metadata": {},
   "outputs": [
    {
     "data": {
      "text/html": [
       "<div>\n",
       "<style scoped>\n",
       "    .dataframe tbody tr th:only-of-type {\n",
       "        vertical-align: middle;\n",
       "    }\n",
       "\n",
       "    .dataframe tbody tr th {\n",
       "        vertical-align: top;\n",
       "    }\n",
       "\n",
       "    .dataframe thead th {\n",
       "        text-align: right;\n",
       "    }\n",
       "</style>\n",
       "<table border=\"1\" class=\"dataframe\">\n",
       "  <thead>\n",
       "    <tr style=\"text-align: right;\">\n",
       "      <th>Indicator Code</th>\n",
       "      <th>Internet Users</th>\n",
       "      <th>GDP</th>\n",
       "      <th>School Duration</th>\n",
       "      <th>Unemployement rate</th>\n",
       "      <th>Educated Pop</th>\n",
       "    </tr>\n",
       "    <tr>\n",
       "      <th>Country Name</th>\n",
       "      <th></th>\n",
       "      <th></th>\n",
       "      <th></th>\n",
       "      <th></th>\n",
       "      <th></th>\n",
       "    </tr>\n",
       "  </thead>\n",
       "  <tbody>\n",
       "    <tr>\n",
       "      <th>Bahamas, The</th>\n",
       "      <td>78.000000</td>\n",
       "      <td>7.808223e+09</td>\n",
       "      <td>12.0</td>\n",
       "      <td>12.0</td>\n",
       "      <td>17580.0</td>\n",
       "    </tr>\n",
       "    <tr>\n",
       "      <th>Barbados</th>\n",
       "      <td>76.110000</td>\n",
       "      <td>4.536444e+09</td>\n",
       "      <td>11.0</td>\n",
       "      <td>11.4</td>\n",
       "      <td>7472.0</td>\n",
       "    </tr>\n",
       "    <tr>\n",
       "      <th>Belgium</th>\n",
       "      <td>85.052900</td>\n",
       "      <td>5.081083e+11</td>\n",
       "      <td>12.0</td>\n",
       "      <td>8.5</td>\n",
       "      <td>489215.0</td>\n",
       "    </tr>\n",
       "    <tr>\n",
       "      <th>France</th>\n",
       "      <td>84.694500</td>\n",
       "      <td>2.777538e+12</td>\n",
       "      <td>11.0</td>\n",
       "      <td>10.4</td>\n",
       "      <td>2283374.0</td>\n",
       "    </tr>\n",
       "    <tr>\n",
       "      <th>Germany</th>\n",
       "      <td>87.589800</td>\n",
       "      <td>3.709598e+12</td>\n",
       "      <td>12.0</td>\n",
       "      <td>4.6</td>\n",
       "      <td>2450787.0</td>\n",
       "    </tr>\n",
       "    <tr>\n",
       "      <th>Israel</th>\n",
       "      <td>77.352090</td>\n",
       "      <td>2.764873e+11</td>\n",
       "      <td>13.0</td>\n",
       "      <td>5.3</td>\n",
       "      <td>375172.0</td>\n",
       "    </tr>\n",
       "    <tr>\n",
       "      <th>Latvia</th>\n",
       "      <td>79.200600</td>\n",
       "      <td>2.826686e+10</td>\n",
       "      <td>11.0</td>\n",
       "      <td>9.9</td>\n",
       "      <td>50678.0</td>\n",
       "    </tr>\n",
       "    <tr>\n",
       "      <th>Luxembourg</th>\n",
       "      <td>97.334100</td>\n",
       "      <td>6.131708e+10</td>\n",
       "      <td>12.0</td>\n",
       "      <td>6.7</td>\n",
       "      <td>26920.0</td>\n",
       "    </tr>\n",
       "    <tr>\n",
       "      <th>Malta</th>\n",
       "      <td>76.184000</td>\n",
       "      <td>1.101774e+10</td>\n",
       "      <td>11.0</td>\n",
       "      <td>5.4</td>\n",
       "      <td>18741.0</td>\n",
       "    </tr>\n",
       "    <tr>\n",
       "      <th>Netherlands</th>\n",
       "      <td>91.724138</td>\n",
       "      <td>8.708897e+11</td>\n",
       "      <td>12.0</td>\n",
       "      <td>6.9</td>\n",
       "      <td>592764.0</td>\n",
       "    </tr>\n",
       "    <tr>\n",
       "      <th>Russian Federation</th>\n",
       "      <td>73.410000</td>\n",
       "      <td>1.658163e+12</td>\n",
       "      <td>11.0</td>\n",
       "      <td>5.6</td>\n",
       "      <td>2497011.0</td>\n",
       "    </tr>\n",
       "    <tr>\n",
       "      <th>Switzerland</th>\n",
       "      <td>87.479056</td>\n",
       "      <td>6.333752e+11</td>\n",
       "      <td>12.0</td>\n",
       "      <td>4.5</td>\n",
       "      <td>360619.0</td>\n",
       "    </tr>\n",
       "    <tr>\n",
       "      <th>United Kingdom</th>\n",
       "      <td>92.000300</td>\n",
       "      <td>2.705252e+12</td>\n",
       "      <td>11.0</td>\n",
       "      <td>5.3</td>\n",
       "      <td>2977214.0</td>\n",
       "    </tr>\n",
       "    <tr>\n",
       "      <th>United States</th>\n",
       "      <td>74.554202</td>\n",
       "      <td>1.664039e+13</td>\n",
       "      <td>12.0</td>\n",
       "      <td>5.3</td>\n",
       "      <td>12321350.0</td>\n",
       "    </tr>\n",
       "  </tbody>\n",
       "</table>\n",
       "</div>"
      ],
      "text/plain": [
       "Indicator Code      Internet Users           GDP  School Duration  \\\n",
       "Country Name                                                        \n",
       "Bahamas, The             78.000000  7.808223e+09             12.0   \n",
       "Barbados                 76.110000  4.536444e+09             11.0   \n",
       "Belgium                  85.052900  5.081083e+11             12.0   \n",
       "France                   84.694500  2.777538e+12             11.0   \n",
       "Germany                  87.589800  3.709598e+12             12.0   \n",
       "Israel                   77.352090  2.764873e+11             13.0   \n",
       "Latvia                   79.200600  2.826686e+10             11.0   \n",
       "Luxembourg               97.334100  6.131708e+10             12.0   \n",
       "Malta                    76.184000  1.101774e+10             11.0   \n",
       "Netherlands              91.724138  8.708897e+11             12.0   \n",
       "Russian Federation       73.410000  1.658163e+12             11.0   \n",
       "Switzerland              87.479056  6.333752e+11             12.0   \n",
       "United Kingdom           92.000300  2.705252e+12             11.0   \n",
       "United States            74.554202  1.664039e+13             12.0   \n",
       "\n",
       "Indicator Code      Unemployement rate  Educated Pop  \n",
       "Country Name                                          \n",
       "Bahamas, The                      12.0       17580.0  \n",
       "Barbados                          11.4        7472.0  \n",
       "Belgium                            8.5      489215.0  \n",
       "France                            10.4     2283374.0  \n",
       "Germany                            4.6     2450787.0  \n",
       "Israel                             5.3      375172.0  \n",
       "Latvia                             9.9       50678.0  \n",
       "Luxembourg                         6.7       26920.0  \n",
       "Malta                              5.4       18741.0  \n",
       "Netherlands                        6.9      592764.0  \n",
       "Russian Federation                 5.6     2497011.0  \n",
       "Switzerland                        4.5      360619.0  \n",
       "United Kingdom                     5.3     2977214.0  \n",
       "United States                      5.3    12321350.0  "
      ]
     },
     "execution_count": 48,
     "metadata": {},
     "output_type": "execute_result"
    }
   ],
   "source": [
    "Data_end_country = Data_end[Data_end_mask]\n",
    "Data_end_country.rename(columns ={'IT.NET.USER.P2':\"Internet Users\", \"NY.GDP.MKTP.KD\":\"GDP\",\"SE.COM.DURS\":\"School Duration\",\"SL.UEM.TOTL.ZS\":\"Unemployement rate\",\"SP.SEC.UTOT.IN\":\"Educated Pop\"})"
   ]
  },
  {
   "cell_type": "code",
   "execution_count": 49,
   "metadata": {},
   "outputs": [],
   "source": [
    "Data_mask = Data2[\"Country Name\"].isin([\"Bahamas, The\",\" Barbados\", \"Belgium\",\"France\",\"Germany\",\"Israel\",\"Lativa\",\"Luxembourg\",\"Malta\",\"Netherlands\", \"Russian Federation\", \"Switzerland\",\"United Kingdom\",\"United Stattes\"])"
   ]
  },
  {
   "cell_type": "code",
   "execution_count": 53,
   "metadata": {},
   "outputs": [
    {
     "data": {
      "text/html": [
       "<div>\n",
       "<style scoped>\n",
       "    .dataframe tbody tr th:only-of-type {\n",
       "        vertical-align: middle;\n",
       "    }\n",
       "\n",
       "    .dataframe tbody tr th {\n",
       "        vertical-align: top;\n",
       "    }\n",
       "\n",
       "    .dataframe thead th {\n",
       "        text-align: right;\n",
       "    }\n",
       "</style>\n",
       "<table border=\"1\" class=\"dataframe\">\n",
       "  <thead>\n",
       "    <tr style=\"text-align: right;\">\n",
       "      <th></th>\n",
       "      <th>2020</th>\n",
       "      <th>2025</th>\n",
       "      <th>2030</th>\n",
       "      <th>2035</th>\n",
       "      <th>2040</th>\n",
       "      <th>2045</th>\n",
       "      <th>2050</th>\n",
       "      <th>Country Name</th>\n",
       "      <th>Indicator Name</th>\n",
       "    </tr>\n",
       "  </thead>\n",
       "  <tbody>\n",
       "    <tr>\n",
       "      <th>142625</th>\n",
       "      <td>9.8</td>\n",
       "      <td>10.0</td>\n",
       "      <td>10.1</td>\n",
       "      <td>10.3</td>\n",
       "      <td>10.4</td>\n",
       "      <td>10.5</td>\n",
       "      <td>10.7</td>\n",
       "      <td>Bahamas, The</td>\n",
       "      <td>Wittgenstein Projection: Mean years of schooli...</td>\n",
       "    </tr>\n",
       "    <tr>\n",
       "      <th>160950</th>\n",
       "      <td>12.2</td>\n",
       "      <td>12.5</td>\n",
       "      <td>12.8</td>\n",
       "      <td>13.0</td>\n",
       "      <td>13.3</td>\n",
       "      <td>13.5</td>\n",
       "      <td>13.7</td>\n",
       "      <td>Belgium</td>\n",
       "      <td>Wittgenstein Projection: Mean years of schooli...</td>\n",
       "    </tr>\n",
       "    <tr>\n",
       "      <th>336870</th>\n",
       "      <td>11.3</td>\n",
       "      <td>11.7</td>\n",
       "      <td>12.0</td>\n",
       "      <td>12.3</td>\n",
       "      <td>12.6</td>\n",
       "      <td>12.9</td>\n",
       "      <td>13.1</td>\n",
       "      <td>France</td>\n",
       "      <td>Wittgenstein Projection: Mean years of schooli...</td>\n",
       "    </tr>\n",
       "    <tr>\n",
       "      <th>355195</th>\n",
       "      <td>13.7</td>\n",
       "      <td>13.8</td>\n",
       "      <td>13.9</td>\n",
       "      <td>14.0</td>\n",
       "      <td>14.1</td>\n",
       "      <td>14.3</td>\n",
       "      <td>14.4</td>\n",
       "      <td>Germany</td>\n",
       "      <td>Wittgenstein Projection: Mean years of schooli...</td>\n",
       "    </tr>\n",
       "    <tr>\n",
       "      <th>435825</th>\n",
       "      <td>11.9</td>\n",
       "      <td>12.0</td>\n",
       "      <td>12.1</td>\n",
       "      <td>12.2</td>\n",
       "      <td>12.3</td>\n",
       "      <td>12.4</td>\n",
       "      <td>12.5</td>\n",
       "      <td>Israel</td>\n",
       "      <td>Wittgenstein Projection: Mean years of schooli...</td>\n",
       "    </tr>\n",
       "    <tr>\n",
       "      <th>512790</th>\n",
       "      <td>11.7</td>\n",
       "      <td>12.1</td>\n",
       "      <td>12.3</td>\n",
       "      <td>12.6</td>\n",
       "      <td>12.8</td>\n",
       "      <td>13.0</td>\n",
       "      <td>13.3</td>\n",
       "      <td>Luxembourg</td>\n",
       "      <td>Wittgenstein Projection: Mean years of schooli...</td>\n",
       "    </tr>\n",
       "    <tr>\n",
       "      <th>542110</th>\n",
       "      <td>11.0</td>\n",
       "      <td>11.3</td>\n",
       "      <td>11.7</td>\n",
       "      <td>12.1</td>\n",
       "      <td>12.5</td>\n",
       "      <td>12.9</td>\n",
       "      <td>13.2</td>\n",
       "      <td>Malta</td>\n",
       "      <td>Wittgenstein Projection: Mean years of schooli...</td>\n",
       "    </tr>\n",
       "    <tr>\n",
       "      <th>600750</th>\n",
       "      <td>11.8</td>\n",
       "      <td>12.0</td>\n",
       "      <td>12.2</td>\n",
       "      <td>12.4</td>\n",
       "      <td>12.5</td>\n",
       "      <td>12.7</td>\n",
       "      <td>12.9</td>\n",
       "      <td>Netherlands</td>\n",
       "      <td>Wittgenstein Projection: Mean years of schooli...</td>\n",
       "    </tr>\n",
       "    <tr>\n",
       "      <th>677715</th>\n",
       "      <td>10.9</td>\n",
       "      <td>11.0</td>\n",
       "      <td>11.2</td>\n",
       "      <td>11.3</td>\n",
       "      <td>11.4</td>\n",
       "      <td>11.6</td>\n",
       "      <td>11.7</td>\n",
       "      <td>Russian Federation</td>\n",
       "      <td>Wittgenstein Projection: Mean years of schooli...</td>\n",
       "    </tr>\n",
       "    <tr>\n",
       "      <th>780335</th>\n",
       "      <td>12.7</td>\n",
       "      <td>12.9</td>\n",
       "      <td>13.0</td>\n",
       "      <td>13.2</td>\n",
       "      <td>13.3</td>\n",
       "      <td>13.5</td>\n",
       "      <td>13.6</td>\n",
       "      <td>Switzerland</td>\n",
       "      <td>Wittgenstein Projection: Mean years of schooli...</td>\n",
       "    </tr>\n",
       "    <tr>\n",
       "      <th>842640</th>\n",
       "      <td>11.1</td>\n",
       "      <td>11.4</td>\n",
       "      <td>11.7</td>\n",
       "      <td>12.0</td>\n",
       "      <td>12.2</td>\n",
       "      <td>12.5</td>\n",
       "      <td>12.8</td>\n",
       "      <td>United Kingdom</td>\n",
       "      <td>Wittgenstein Projection: Mean years of schooli...</td>\n",
       "    </tr>\n",
       "  </tbody>\n",
       "</table>\n",
       "</div>"
      ],
      "text/plain": [
       "        2020  2025  2030  2035  2040  2045  2050        Country Name  \\\n",
       "142625   9.8  10.0  10.1  10.3  10.4  10.5  10.7        Bahamas, The   \n",
       "160950  12.2  12.5  12.8  13.0  13.3  13.5  13.7             Belgium   \n",
       "336870  11.3  11.7  12.0  12.3  12.6  12.9  13.1              France   \n",
       "355195  13.7  13.8  13.9  14.0  14.1  14.3  14.4             Germany   \n",
       "435825  11.9  12.0  12.1  12.2  12.3  12.4  12.5              Israel   \n",
       "512790  11.7  12.1  12.3  12.6  12.8  13.0  13.3          Luxembourg   \n",
       "542110  11.0  11.3  11.7  12.1  12.5  12.9  13.2               Malta   \n",
       "600750  11.8  12.0  12.2  12.4  12.5  12.7  12.9         Netherlands   \n",
       "677715  10.9  11.0  11.2  11.3  11.4  11.6  11.7  Russian Federation   \n",
       "780335  12.7  12.9  13.0  13.2  13.3  13.5  13.6         Switzerland   \n",
       "842640  11.1  11.4  11.7  12.0  12.2  12.5  12.8      United Kingdom   \n",
       "\n",
       "                                           Indicator Name  \n",
       "142625  Wittgenstein Projection: Mean years of schooli...  \n",
       "160950  Wittgenstein Projection: Mean years of schooli...  \n",
       "336870  Wittgenstein Projection: Mean years of schooli...  \n",
       "355195  Wittgenstein Projection: Mean years of schooli...  \n",
       "435825  Wittgenstein Projection: Mean years of schooli...  \n",
       "512790  Wittgenstein Projection: Mean years of schooli...  \n",
       "542110  Wittgenstein Projection: Mean years of schooli...  \n",
       "600750  Wittgenstein Projection: Mean years of schooli...  \n",
       "677715  Wittgenstein Projection: Mean years of schooli...  \n",
       "780335  Wittgenstein Projection: Mean years of schooli...  \n",
       "842640  Wittgenstein Projection: Mean years of schooli...  "
      ]
     },
     "execution_count": 53,
     "metadata": {},
     "output_type": "execute_result"
    }
   ],
   "source": [
    "Data2_country = Data2[Data_mask]\n",
    "Data2_proj = Data2_country.loc[:,'2020':'2050']\n",
    "Data2_proj = pd.concat([Data2_proj,Data2_country[\"Country Name\"],Data2_country[\"Indicator Name\"]],axis = 1)\n",
    "#print(len(Data2_proj))\n",
    "#Data2_proj.dropna(axis =0, thresh =3, inplace = True)\n",
    "#print(Data2_proj[\"Indicator Name\"].unique())\n",
    "Data2_proj_mask = Data2_proj[\"Indicator Name\"] == 'Wittgenstein Projection: Mean years of schooling. Age 15+. Total'\n",
    "Data2_proj= Data2_proj[Data2_proj_mask]\n",
    "Data2_proj\n"
   ]
  },
  {
   "cell_type": "code",
   "execution_count": 123,
   "metadata": {},
   "outputs": [
    {
     "data": {
      "text/plain": [
       "<matplotlib.legend.Legend at 0x28082a26e20>"
      ]
     },
     "execution_count": 123,
     "metadata": {},
     "output_type": "execute_result"
    },
    {
     "data": {
      "image/png": "[encoded data removed]",
      "text/plain": [
       "<Figure size 432x288 with 1 Axes>"
      ]
     },
     "metadata": {},
     "output_type": "display_data"
    }
   ],
   "source": [
    "#Data_graph = Data2_proj.loc[Data2_proj['2020':'2050']]\n",
    "\n",
    "\n",
    "bah = Data2_proj.loc[Data2_proj[\"Country Name\"]=='Bahamas, The']\n",
    "bah = bah.loc[:,'2020':'2050']\n",
    "bah = pd.Series(bah.iloc[0,0:6])\n",
    "\n",
    "bel = Data2_proj.loc[Data2_proj[\"Country Name\"]=='Belgium']\n",
    "bel = bel.loc[:,'2020':'2050']\n",
    "bel = pd.Series(bel.iloc[0,0:6])\n",
    "\n",
    "fra = Data2_proj.loc[Data2_proj[\"Country Name\"]=='France']\n",
    "fra = fra.loc[:,'2020':'2050']\n",
    "fra = pd.Series(fra.iloc[0,0:6])\n",
    "\n",
    "ger = Data2_proj.loc[Data2_proj[\"Country Name\"]=='Germany']\n",
    "ger = ger.loc[:,'2020':'2050']\n",
    "ger = pd.Series(ger.iloc[0,0:6])\n",
    "\n",
    "isr = Data2_proj.loc[Data2_proj[\"Country Name\"]=='Israel']\n",
    "isr = isr.loc[:,'2020':'2050']\n",
    "isr = pd.Series(isr.iloc[0,0:6])\n",
    "\n",
    "lux = Data2_proj.loc[Data2_proj[\"Country Name\"]=='Luxembourg']\n",
    "lux = lux.loc[:,'2020':'2050']\n",
    "lux = pd.Series(lux.iloc[0,0:6])\n",
    "\n",
    "mal = Data2_proj.loc[Data2_proj[\"Country Name\"]=='Malta']\n",
    "mal= mal.loc[:,'2020':'2050']\n",
    "mal = pd.Series(mal.iloc[0,0:6])\n",
    "\n",
    "net = Data2_proj.loc[Data2_proj[\"Country Name\"]=='Netherlands']\n",
    "net = net.loc[:,'2020':'2050']\n",
    "net = pd.Series(net.iloc[0,0:6])\n",
    "\n",
    "rus = Data2_proj.loc[Data2_proj[\"Country Name\"]=='Russian Federation']\n",
    "rus = rus.loc[:,'2020':'2050']\n",
    "rus = pd.Series(rus.iloc[0,0:6])\n",
    "\n",
    "swi = Data2_proj.loc[Data2_proj[\"Country Name\"]=='Switzerland']\n",
    "swi = swi.loc[:,'2020':'2050']\n",
    "swi = pd.Series(swi.iloc[0,0:6])\n",
    "\n",
    "uk =  Data2_proj.loc[Data2_proj[\"Country Name\"]=='United Kingdom']\n",
    "uk = uk.loc[:,'2020':'2050']\n",
    "uk = pd.Series(uk.iloc[0,0:6])\n",
    "dp= pd.concat([bah,bel,fra,ger,isr,lux,mal,net,rus,swi,uk],axis =1)\n",
    "dp.rename(columns={142625:'bahamas',160950:'belgique',336870:'france',355195:'allemagne',435825:'israel',512790:'luxembourg',542110:'malte',600750:'pays-bas',677715:'russie',780335:'suisse',842640:'uk'},inplace = True)\n",
    "dp.columns\n",
    "#year = pd.Series([2020, 2025, 2030 ,2035, 2040, 2045 ,2050])\n",
    "sns.lineplot(data=dp ).set(xlabel= 'years', ylabel=\"mean years of schooling\")\n",
    "plt.legend(bbox_to_anchor=(1.05, 1), loc=2, borderaxespad=0.)"
   ]
  },
  {
   "cell_type": "code",
   "execution_count": 109,
   "metadata": {},
   "outputs": [
    {
     "name": "stdout",
     "output_type": "stream",
     "text": [
      "<class 'pandas.core.frame.DataFrame'>\n",
      "Int64Index: 0 entries\n",
      "Data columns (total 9 columns):\n",
      " #   Column          Non-Null Count  Dtype  \n",
      "---  ------          --------------  -----  \n",
      " 0   2020            0 non-null      float64\n",
      " 1   2025            0 non-null      float64\n",
      " 2   2030            0 non-null      float64\n",
      " 3   2035            0 non-null      float64\n",
      " 4   2040            0 non-null      float64\n",
      " 5   2045            0 non-null      float64\n",
      " 6   2050            0 non-null      float64\n",
      " 7   Country Name    0 non-null      object \n",
      " 8   Indicator Name  0 non-null      object \n",
      "dtypes: float64(7), object(2)\n",
      "memory usage: 0.0+ bytes\n",
      "<class 'pandas.core.frame.DataFrame'>\n",
      "Int64Index: 1 entries, 677715 to 677715\n",
      "Data columns (total 9 columns):\n",
      " #   Column          Non-Null Count  Dtype  \n",
      "---  ------          --------------  -----  \n",
      " 0   2020            1 non-null      float64\n",
      " 1   2025            1 non-null      float64\n",
      " 2   2030            1 non-null      float64\n",
      " 3   2035            1 non-null      float64\n",
      " 4   2040            1 non-null      float64\n",
      " 5   2045            1 non-null      float64\n",
      " 6   2050            1 non-null      float64\n",
      " 7   Country Name    1 non-null      object \n",
      " 8   Indicator Name  1 non-null      object \n",
      "dtypes: float64(7), object(2)\n",
      "memory usage: 80.0+ bytes\n"
     ]
    }
   ],
   "source": []
  },
  {
   "cell_type": "code",
   "execution_count": null,
   "metadata": {},
   "outputs": [],
   "source": []
  },
  {
   "cell_type": "code",
   "execution_count": null,
   "metadata": {},
   "outputs": [],
   "source": []
  },
  {
   "cell_type": "code",
   "execution_count": null,
   "metadata": {},
   "outputs": [],
   "source": []
  }
 ],
 "metadata": {
  "kernelspec": {
   "display_name": "Python 3",
   "language": "python",
   "name": "python3"
  },
  "language_info": {
   "codemirror_mode": {
    "name": "ipython",
    "version": 3
   },
   "file_extension": ".py",
   "mimetype": "text/x-python",
   "name": "python",
   "nbconvert_exporter": "python",
   "pygments_lexer": "ipython3",
   "version": "3.8.5"
  }
 },
 "nbformat": 4,
 "nbformat_minor": 4
}
